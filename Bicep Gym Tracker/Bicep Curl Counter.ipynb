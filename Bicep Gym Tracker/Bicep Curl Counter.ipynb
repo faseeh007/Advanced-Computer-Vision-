{
 "cells": [
  {
   "cell_type": "markdown",
   "id": "2dccca50",
   "metadata": {},
   "source": [
    "#  1. Install And Import Dependencies"
   ]
  },
  {
   "cell_type": "code",
   "execution_count": 2,
   "id": "3e3ca123",
   "metadata": {},
   "outputs": [
    {
     "name": "stdout",
     "output_type": "stream",
     "text": [
      "Package               Version\n",
      "--------------------- --------\n",
      "absl-py               1.0.0\n",
      "attrs                 21.4.0\n",
      "backcall              0.2.0\n",
      "colorama              0.4.4\n",
      "cycler                0.11.0\n",
      "debugpy               1.5.1\n",
      "decorator             5.1.1\n",
      "entrypoints           0.3\n",
      "fonttools             4.28.5\n",
      "ipykernel             6.7.0\n",
      "ipython               7.31.1\n",
      "jedi                  0.18.1\n",
      "jupyter-client        7.1.2\n",
      "jupyter-core          4.9.1\n",
      "kiwisolver            1.3.2\n",
      "matplotlib            3.5.1\n",
      "matplotlib-inline     0.1.3\n",
      "mediapipe             0.8.9.1\n",
      "nest-asyncio          1.5.4\n",
      "numpy                 1.21.5\n",
      "opencv-contrib-python 4.5.5.62\n",
      "packaging             21.3\n",
      "parso                 0.8.3\n",
      "pickleshare           0.7.5\n",
      "Pillow                9.0.0\n",
      "pip                   21.3.1\n",
      "prompt-toolkit        3.0.24\n",
      "protobuf              3.19.3\n",
      "Pygments              2.11.2\n",
      "pyparsing             3.0.7\n",
      "python-dateutil       2.8.2\n",
      "pywin32               303\n",
      "pyzmq                 22.3.0\n",
      "setuptools            47.1.0\n",
      "six                   1.16.0\n",
      "tornado               6.1\n",
      "traitlets             5.1.1\n",
      "wcwidth               0.2.5\n"
     ]
    }
   ],
   "source": [
    "!pip list"
   ]
  },
  {
   "cell_type": "code",
   "execution_count": 7,
   "id": "bf65f626",
   "metadata": {},
   "outputs": [
    {
     "name": "stdout",
     "output_type": "stream",
     "text": [
      "# packages in environment at C:\\Users\\Faseeh\\Anaconda3:\n",
      "#\n",
      "# Name                    Version                   Build  Channel\n",
      "matplotlib                3.2.0                    pypi_0    pypi\n",
      "matplotlib-inline         0.1.2              pyhd3eb1b0_2  \n"
     ]
    }
   ],
   "source": [
    "!conda list matplotlib"
   ]
  },
  {
   "cell_type": "markdown",
   "id": "3f2d75ee",
   "metadata": {},
   "source": [
    "# 2. Make Detections"
   ]
  },
  {
   "cell_type": "code",
   "execution_count": 4,
   "id": "d690395e",
   "metadata": {},
   "outputs": [],
   "source": [
    "import cv2\n",
    "#import matplotlib\n",
    "import mediapipe as mp\n",
    "import numpy as np\n",
    "mp_drawing=mp.solutions.drawing_utils\n",
    "mp_pose=mp.solutions.pose"
   ]
  },
  {
   "cell_type": "code",
   "execution_count": 12,
   "id": "91d0d403",
   "metadata": {},
   "outputs": [],
   "source": [
    "#FEED\n",
    "cap=cv2.VideoCapture(0)\n",
    "with mp_pose.Pose(min_detection_confidence=0.5,min_tracking_confidence=0.5) as pose:\n",
    "    while cap.isOpened():\n",
    "        ret,frame=cap.read()\n",
    "        \n",
    "        #Recolouring Image\n",
    "        image=cv2.cvtColor(frame,cv2.COLOR_BGR2RGB)\n",
    "        image.flags.writeable=False\n",
    "        \n",
    "        #Detect and Render\n",
    "        results=pose.process(image)\n",
    "        image.flags.writeable=True\n",
    "        image=cv2.cvtColor(image,cv2.COLOR_RGB2BGR)\n",
    "        \n",
    "        #Render Detections\n",
    "        mp_drawing.draw_landmarks(image,results.pose_landmarks,mp_pose.POSE_CONNECTIONS,mp_drawing.DrawingSpec(color=(245,117,66),thickness=2,circle_radius=2),\n",
    "                                 mp_drawing.DrawingSpec(color=(245,66,230),thickness=2,circle_radius=2))\n",
    "        \n",
    "        cv2.imshow(\"Mediapipe Feed\",image)\n",
    "\n",
    "        if cv2.waitKey(10) & 0xFF==ord('q'):\n",
    "            break\n",
    "\n",
    "    cap.release()\n",
    "    cv2.destroyAllWindows()\n"
   ]
  },
  {
   "cell_type": "code",
   "execution_count": 10,
   "id": "484e29fd",
   "metadata": {},
   "outputs": [
    {
     "data": {
      "text/plain": [
       "(frozenset({(0, 1),\n",
       "            (0, 4),\n",
       "            (1, 2),\n",
       "            (2, 3),\n",
       "            (3, 7),\n",
       "            (4, 5),\n",
       "            (5, 6),\n",
       "            (6, 8),\n",
       "            (9, 10),\n",
       "            (11, 12),\n",
       "            (11, 13),\n",
       "            (11, 23),\n",
       "            (12, 14),\n",
       "            (12, 24),\n",
       "            (13, 15),\n",
       "            (14, 16),\n",
       "            (15, 17),\n",
       "            (15, 19),\n",
       "            (15, 21),\n",
       "            (16, 18),\n",
       "            (16, 20),\n",
       "            (16, 22),\n",
       "            (17, 19),\n",
       "            (18, 20),\n",
       "            (23, 24),\n",
       "            (23, 25),\n",
       "            (24, 26),\n",
       "            (25, 27),\n",
       "            (26, 28),\n",
       "            (27, 29),\n",
       "            (27, 31),\n",
       "            (28, 30),\n",
       "            (28, 32),\n",
       "            (29, 31),\n",
       "            (30, 32)}),\n",
       " landmark {\n",
       "   x: 0.5864473581314087\n",
       "   y: 0.3628637492656708\n",
       "   z: -1.5121338367462158\n",
       "   visibility: 0.9995301961898804\n",
       " }\n",
       " landmark {\n",
       "   x: 0.6149340271949768\n",
       "   y: 0.2610835134983063\n",
       "   z: -1.4880822896957397\n",
       "   visibility: 0.998995840549469\n",
       " }\n",
       " landmark {\n",
       "   x: 0.6347914338111877\n",
       "   y: 0.2560489773750305\n",
       "   z: -1.4876960515975952\n",
       "   visibility: 0.9988422989845276\n",
       " }\n",
       " landmark {\n",
       "   x: 0.6541496515274048\n",
       "   y: 0.25243741273880005\n",
       "   z: -1.4882733821868896\n",
       "   visibility: 0.9989376664161682\n",
       " }\n",
       " landmark {\n",
       "   x: 0.5390924215316772\n",
       "   y: 0.26946786046028137\n",
       "   z: -1.4926129579544067\n",
       "   visibility: 0.9991271495819092\n",
       " }\n",
       " landmark {\n",
       "   x: 0.5111387968063354\n",
       "   y: 0.27105221152305603\n",
       "   z: -1.4924194812774658\n",
       "   visibility: 0.9990352988243103\n",
       " }\n",
       " landmark {\n",
       "   x: 0.48926544189453125\n",
       "   y: 0.2729600965976715\n",
       "   z: -1.4925892353057861\n",
       "   visibility: 0.9991783499717712\n",
       " }\n",
       " landmark {\n",
       "   x: 0.6836981773376465\n",
       "   y: 0.2569601237773895\n",
       "   z: -1.1120103597640991\n",
       "   visibility: 0.9989742040634155\n",
       " }\n",
       " landmark {\n",
       "   x: 0.45059314370155334\n",
       "   y: 0.27701443433761597\n",
       "   z: -1.1151933670043945\n",
       "   visibility: 0.9994317889213562\n",
       " }\n",
       " landmark {\n",
       "   x: 0.6230367422103882\n",
       "   y: 0.42906269431114197\n",
       "   z: -1.3555834293365479\n",
       "   visibility: 0.9996959567070007\n",
       " }\n",
       " landmark {\n",
       "   x: 0.5404180288314819\n",
       "   y: 0.44637593626976013\n",
       "   z: -1.3544492721557617\n",
       "   visibility: 0.9998136758804321\n",
       " }\n",
       " landmark {\n",
       "   x: 0.8457431793212891\n",
       "   y: 0.5777944326400757\n",
       "   z: -0.8043549656867981\n",
       "   visibility: 0.9989634156227112\n",
       " }\n",
       " landmark {\n",
       "   x: 0.3231810927391052\n",
       "   y: 0.5795970559120178\n",
       "   z: -0.830189049243927\n",
       "   visibility: 0.9994251728057861\n",
       " }\n",
       " landmark {\n",
       "   x: 0.9994460940361023\n",
       "   y: 0.9217004179954529\n",
       "   z: -0.7372684478759766\n",
       "   visibility: 0.6431450247764587\n",
       " }\n",
       " landmark {\n",
       "   x: 0.10939271748065948\n",
       "   y: 0.9226619005203247\n",
       "   z: -0.873897910118103\n",
       "   visibility: 0.698253870010376\n",
       " }\n",
       " landmark {\n",
       "   x: 1.1216065883636475\n",
       "   y: 1.3931405544281006\n",
       "   z: -0.9772132039070129\n",
       "   visibility: 0.09346093237400055\n",
       " }\n",
       " landmark {\n",
       "   x: 0.007199596613645554\n",
       "   y: 1.3392053842544556\n",
       "   z: -1.3748629093170166\n",
       "   visibility: 0.17179518938064575\n",
       " }\n",
       " landmark {\n",
       "   x: 1.1812015771865845\n",
       "   y: 1.5104713439941406\n",
       "   z: -1.0704597234725952\n",
       "   visibility: 0.06732083112001419\n",
       " }\n",
       " landmark {\n",
       "   x: -0.035111088305711746\n",
       "   y: 1.4457676410675049\n",
       "   z: -1.4905914068222046\n",
       "   visibility: 0.12036767601966858\n",
       " }\n",
       " landmark {\n",
       "   x: 1.131414771080017\n",
       "   y: 1.5233057737350464\n",
       "   z: -1.1452172994613647\n",
       "   visibility: 0.1051853820681572\n",
       " }\n",
       " landmark {\n",
       "   x: 0.008928797207772732\n",
       "   y: 1.4356024265289307\n",
       "   z: -1.5924938917160034\n",
       "   visibility: 0.16751648485660553\n",
       " }\n",
       " landmark {\n",
       "   x: 1.096205234527588\n",
       "   y: 1.4902693033218384\n",
       "   z: -1.0240834951400757\n",
       "   visibility: 0.12370453029870987\n",
       " }\n",
       " landmark {\n",
       "   x: 0.03663163632154465\n",
       "   y: 1.4080307483673096\n",
       "   z: -1.4348255395889282\n",
       "   visibility: 0.18302810192108154\n",
       " }\n",
       " landmark {\n",
       "   x: 0.7441389560699463\n",
       "   y: 1.4191473722457886\n",
       "   z: -0.047415364533662796\n",
       "   visibility: 0.0013574928743764758\n",
       " }\n",
       " landmark {\n",
       "   x: 0.4091023802757263\n",
       "   y: 1.424049735069275\n",
       "   z: 0.05166984722018242\n",
       "   visibility: 0.001393005601130426\n",
       " }\n",
       " landmark {\n",
       "   x: 0.7280945777893066\n",
       "   y: 2.1488561630249023\n",
       "   z: 0.250520259141922\n",
       "   visibility: 0.00036956617259420455\n",
       " }\n",
       " landmark {\n",
       "   x: 0.38987863063812256\n",
       "   y: 2.160618305206299\n",
       "   z: 0.3371216654777527\n",
       "   visibility: 0.0002386194682912901\n",
       " }\n",
       " landmark {\n",
       "   x: 0.7141866683959961\n",
       "   y: 2.7872393131256104\n",
       "   z: 1.1692101955413818\n",
       "   visibility: 4.306605114834383e-05\n",
       " }\n",
       " landmark {\n",
       "   x: 0.3900035321712494\n",
       "   y: 2.802964448928833\n",
       "   z: 1.0116088390350342\n",
       "   visibility: 1.783219340723008e-05\n",
       " }\n",
       " landmark {\n",
       "   x: 0.7221511602401733\n",
       "   y: 2.8842580318450928\n",
       "   z: 1.2300418615341187\n",
       "   visibility: 3.294332782388665e-05\n",
       " }\n",
       " landmark {\n",
       "   x: 0.3861268162727356\n",
       "   y: 2.898498773574829\n",
       "   z: 1.0632561445236206\n",
       "   visibility: 2.8239950552233495e-05\n",
       " }\n",
       " landmark {\n",
       "   x: 0.660103440284729\n",
       "   y: 3.0122838020324707\n",
       "   z: 0.6187108159065247\n",
       "   visibility: 5.9959289501421154e-05\n",
       " }\n",
       " landmark {\n",
       "   x: 0.4455202519893646\n",
       "   y: 3.042307138442993\n",
       "   z: 0.35036224126815796\n",
       "   visibility: 5.023893390898593e-05\n",
       " })"
      ]
     },
     "execution_count": 10,
     "metadata": {},
     "output_type": "execute_result"
    }
   ],
   "source": [
    "mp_pose.POSE_CONNECTIONS,results.pose_landmarks"
   ]
  },
  {
   "cell_type": "markdown",
   "id": "56cae672",
   "metadata": {},
   "source": [
    "# 3. Determining Joints"
   ]
  },
  {
   "cell_type": "markdown",
   "id": "6aa9e970",
   "metadata": {},
   "source": [
    "<img src=\"https://i.imgur.com/3j8BPdc.png\" style=\"height:300px\" >"
   ]
  },
  {
   "cell_type": "code",
   "execution_count": null,
   "id": "2212fb22",
   "metadata": {},
   "outputs": [],
   "source": [
    "#FEED\n",
    "cap=cv2.VideoCapture(0)\n",
    "with mp_pose.Pose(min_detection_confidence=0.5,min_tracking_confidence=0.5) as pose:\n",
    "    while cap.isOpened():\n",
    "        ret,frame=cap.read()\n",
    "        \n",
    "        #Recolouring Image\n",
    "        image=cv2.cvtColor(frame,cv2.COLOR_BGR2RGB)\n",
    "        image.flags.writeable=False\n",
    "        \n",
    "        #Detect and Render\n",
    "        results=pose.process(image)\n",
    "        image.flags.writeable=True\n",
    "        image=cv2.cvtColor(image,cv2.COLOR_RGB2BGR)\n",
    "        \n",
    "        #Extract landmarks\n",
    "        try:\n",
    "            landmarks=results.pose_landmarks.landmark\n",
    "            print(landmarks)\n",
    "        except:\n",
    "            pass\n",
    "        \n",
    "        #Render Detections\n",
    "        mp_drawing.draw_landmarks(image,results.pose_landmarks,mp_pose.POSE_CONNECTIONS,\n",
    "                                  mp_drawing.DrawingSpec(color=(245,117,66),thickness=2,circle_radius=2),\n",
    "                                  mp_drawing.DrawingSpec(color=(245,66,230),thickness=2,circle_radius=2))\n",
    "        \n",
    "        cv2.imshow(\"Mediapipe Feed\",image)\n",
    "\n",
    "        if cv2.waitKey(10) & 0xFF==ord('q'):\n",
    "            break\n",
    "\n",
    "    cap.release()\n",
    "    cv2.destroyAllWindows()\n"
   ]
  },
  {
   "cell_type": "code",
   "execution_count": 14,
   "id": "7081f8e7",
   "metadata": {},
   "outputs": [
    {
     "data": {
      "text/plain": [
       "33"
      ]
     },
     "execution_count": 14,
     "metadata": {},
     "output_type": "execute_result"
    }
   ],
   "source": [
    "len(landmarks)"
   ]
  },
  {
   "cell_type": "code",
   "execution_count": 15,
   "id": "1d14f29a",
   "metadata": {},
   "outputs": [
    {
     "name": "stdout",
     "output_type": "stream",
     "text": [
      "PoseLandmark.NOSE\n",
      "PoseLandmark.LEFT_EYE_INNER\n",
      "PoseLandmark.LEFT_EYE\n",
      "PoseLandmark.LEFT_EYE_OUTER\n",
      "PoseLandmark.RIGHT_EYE_INNER\n",
      "PoseLandmark.RIGHT_EYE\n",
      "PoseLandmark.RIGHT_EYE_OUTER\n",
      "PoseLandmark.LEFT_EAR\n",
      "PoseLandmark.RIGHT_EAR\n",
      "PoseLandmark.MOUTH_LEFT\n",
      "PoseLandmark.MOUTH_RIGHT\n",
      "PoseLandmark.LEFT_SHOULDER\n",
      "PoseLandmark.RIGHT_SHOULDER\n",
      "PoseLandmark.LEFT_ELBOW\n",
      "PoseLandmark.RIGHT_ELBOW\n",
      "PoseLandmark.LEFT_WRIST\n",
      "PoseLandmark.RIGHT_WRIST\n",
      "PoseLandmark.LEFT_PINKY\n",
      "PoseLandmark.RIGHT_PINKY\n",
      "PoseLandmark.LEFT_INDEX\n",
      "PoseLandmark.RIGHT_INDEX\n",
      "PoseLandmark.LEFT_THUMB\n",
      "PoseLandmark.RIGHT_THUMB\n",
      "PoseLandmark.LEFT_HIP\n",
      "PoseLandmark.RIGHT_HIP\n",
      "PoseLandmark.LEFT_KNEE\n",
      "PoseLandmark.RIGHT_KNEE\n",
      "PoseLandmark.LEFT_ANKLE\n",
      "PoseLandmark.RIGHT_ANKLE\n",
      "PoseLandmark.LEFT_HEEL\n",
      "PoseLandmark.RIGHT_HEEL\n",
      "PoseLandmark.LEFT_FOOT_INDEX\n",
      "PoseLandmark.RIGHT_FOOT_INDEX\n"
     ]
    }
   ],
   "source": [
    "for lndmrk in mp_pose.PoseLandmark:\n",
    "    print(lndmrk)"
   ]
  },
  {
   "cell_type": "code",
   "execution_count": 16,
   "id": "91c3fe29",
   "metadata": {},
   "outputs": [
    {
     "data": {
      "text/plain": [
       "x: 0.8427739143371582\n",
       "y: 0.7599136233329773\n",
       "z: -0.41349297761917114\n",
       "visibility: 0.9970845580101013"
      ]
     },
     "execution_count": 16,
     "metadata": {},
     "output_type": "execute_result"
    }
   ],
   "source": [
    "landmarks[mp_pose.PoseLandmark.LEFT_SHOULDER.value]"
   ]
  },
  {
   "cell_type": "code",
   "execution_count": 21,
   "id": "37102ed1",
   "metadata": {},
   "outputs": [
    {
     "data": {
      "text/plain": [
       "x: 0.9849661588668823\n",
       "y: 0.9787117838859558\n",
       "z: -0.3887619376182556\n",
       "visibility: 0.5443431735038757"
      ]
     },
     "execution_count": 21,
     "metadata": {},
     "output_type": "execute_result"
    }
   ],
   "source": [
    "landmarks[mp_pose.PoseLandmark.LEFT_ELBOW.value]"
   ]
  },
  {
   "cell_type": "code",
   "execution_count": 22,
   "id": "6876b363",
   "metadata": {},
   "outputs": [
    {
     "data": {
      "text/plain": [
       "x: 1.1209144592285156\n",
       "y: 1.4769268035888672\n",
       "z: -0.6986539959907532\n",
       "visibility: 0.33775898814201355"
      ]
     },
     "execution_count": 22,
     "metadata": {},
     "output_type": "execute_result"
    }
   ],
   "source": [
    "landmarks[mp_pose.PoseLandmark.LEFT_WRIST.value]"
   ]
  },
  {
   "cell_type": "code",
   "execution_count": 20,
   "id": "1c3aff69",
   "metadata": {},
   "outputs": [
    {
     "name": "stdout",
     "output_type": "stream",
     "text": [
      "PoseLandmark.LEFT_SHOULDER\n",
      "11\n"
     ]
    }
   ],
   "source": [
    "print(mp_pose.PoseLandmark.LEFT_SHOULDER)\n",
    "print(mp_pose.PoseLandmark.LEFT_SHOULDER.value)"
   ]
  },
  {
   "cell_type": "markdown",
   "id": "71ccd813",
   "metadata": {},
   "source": [
    "#  4. Calculate Angles"
   ]
  },
  {
   "cell_type": "code",
   "execution_count": 23,
   "id": "393ef553",
   "metadata": {},
   "outputs": [],
   "source": [
    "def calculate_angle(a,b,c):\n",
    "    a=np.array(a)#First\n",
    "    b=np.array(b)#Mid\n",
    "    c=np.array(c)#End\n",
    "    \n",
    "    radians=np.arctan2(c[1]-b[1],c[0]-b[0]) - np.arctan2(a[1]-b[1],a[0]-b[0])\n",
    "    angle=np.abs(radians*180.0/np.pi)\n",
    "    \n",
    "    if angle>180.0:\n",
    "        angle=360-angle\n",
    "        \n",
    "    return angle"
   ]
  },
  {
   "cell_type": "code",
   "execution_count": 34,
   "id": "3fe2dfc1",
   "metadata": {},
   "outputs": [],
   "source": [
    "shoulder=[landmarks[mp_pose.PoseLandmark.LEFT_SHOULDER.value].x,landmarks[mp_pose.PoseLandmark.LEFT_SHOULDER.value].y]\n",
    "elbow=[landmarks[mp_pose.PoseLandmark.LEFT_ELBOW.value].x,landmarks[mp_pose.PoseLandmark.LEFT_ELBOW.value].y]\n",
    "wrist=[landmarks[mp_pose.PoseLandmark.LEFT_WRIST.value].x,landmarks[mp_pose.PoseLandmark.LEFT_WRIST.value].y]\n",
    "            "
   ]
  },
  {
   "cell_type": "code",
   "execution_count": 29,
   "id": "d54fe70a",
   "metadata": {},
   "outputs": [
    {
     "data": {
      "text/plain": [
       "([0.8427739143371582, 0.7599136233329773],\n",
       " [0.9849661588668823, 0.9787117838859558],\n",
       " [1.1209144592285156, 1.4769268035888672])"
      ]
     },
     "execution_count": 29,
     "metadata": {},
     "output_type": "execute_result"
    }
   ],
   "source": [
    "shoulder,elbow,wrist"
   ]
  },
  {
   "cell_type": "code",
   "execution_count": 28,
   "id": "22be90ce",
   "metadata": {},
   "outputs": [
    {
     "data": {
      "text/plain": [
       "162.24379140726114"
      ]
     },
     "execution_count": 28,
     "metadata": {},
     "output_type": "execute_result"
    }
   ],
   "source": [
    "calculate_angle(shoulder,elbow,wrist)"
   ]
  },
  {
   "cell_type": "code",
   "execution_count": 32,
   "id": "69865e20",
   "metadata": {},
   "outputs": [
    {
     "data": {
      "text/plain": [
       "(604, 488)"
      ]
     },
     "execution_count": 32,
     "metadata": {},
     "output_type": "execute_result"
    }
   ],
   "source": [
    "tuple(np.multiply(elbow,[640,480]).astype(int))"
   ]
  },
  {
   "cell_type": "code",
   "execution_count": 37,
   "id": "5747458e",
   "metadata": {},
   "outputs": [],
   "source": [
    "#FEED\n",
    "cap=cv2.VideoCapture(0)\n",
    "with mp_pose.Pose(min_detection_confidence=0.5,min_tracking_confidence=0.5) as pose:\n",
    "    while cap.isOpened():\n",
    "        ret,frame=cap.read()\n",
    "        \n",
    "        #Recolouring Image\n",
    "        image=cv2.cvtColor(frame,cv2.COLOR_BGR2RGB)\n",
    "        image.flags.writeable=False\n",
    "        \n",
    "        #Detect and Render\n",
    "        results=pose.process(image)\n",
    "        image.flags.writeable=True\n",
    "        image=cv2.cvtColor(image,cv2.COLOR_RGB2BGR)\n",
    "        \n",
    "        #Extract landmarks\n",
    "        try:\n",
    "            \n",
    "            landmarks = results.pose_landmarks.landmark\n",
    "            \n",
    "            # Get coordinates\n",
    "            shoulder = [landmarks[mp_pose.PoseLandmark.LEFT_SHOULDER.value].x,landmarks[mp_pose.PoseLandmark.LEFT_SHOULDER.value].y]\n",
    "            elbow = [landmarks[mp_pose.PoseLandmark.LEFT_ELBOW.value].x,landmarks[mp_pose.PoseLandmark.LEFT_ELBOW.value].y]\n",
    "            wrist = [landmarks[mp_pose.PoseLandmark.LEFT_WRIST.value].x,landmarks[mp_pose.PoseLandmark.LEFT_WRIST.value].y]\n",
    "            #shoulder=[landmarks[mp_pose.PoseLandmark.LEFT_HIP.value].x,landmarks[mp_pose.PoseLandmark.LEFT_HIP.value].y]\n",
    "            #elbow=[landmarks[mp_pose.PoseLandmark.LEFT_SHOULDER.value].x,landmarks[mp_pose.PoseLandmark.LEFT_SHOULDER.value].y]\n",
    "            #wrist=[landmarks[mp_pose.PoseLandmark.LEFT_ELBOW.value].x,landmarks[mp_pose.PoseLandmark.LEFT_ELBOW.value].y]\n",
    "  \n",
    "            # Calculate angle\n",
    "            angle = calculate_angle(shoulder, elbow, wrist)\n",
    "            \n",
    "            # Visualize angle\n",
    "            cv2.putText(image, str(angle), \n",
    "                           tuple(np.multiply(elbow, [640, 480]).astype(int)), \n",
    "                           cv2.FONT_HERSHEY_SIMPLEX, 0.5, (255, 255, 255), 2, cv2.LINE_AA\n",
    "                                )\n",
    "                       \n",
    "        except:\n",
    "            pass\n",
    "        \n",
    "        #Render Detections\n",
    "        mp_drawing.draw_landmarks(image,results.pose_landmarks,mp_pose.POSE_CONNECTIONS,\n",
    "                                  mp_drawing.DrawingSpec(color=(245,117,66),thickness=2,circle_radius=2),\n",
    "                                  mp_drawing.DrawingSpec(color=(245,66,230),thickness=2,circle_radius=2))\n",
    "        \n",
    "        cv2.imshow(\"Mediapipe Feed\",image)\n",
    "\n",
    "        if cv2.waitKey(10) & 0xFF==ord('q'):\n",
    "            break\n",
    "\n",
    "    cap.release()\n",
    "    cv2.destroyAllWindows()\n"
   ]
  },
  {
   "cell_type": "markdown",
   "id": "d2fb96a4",
   "metadata": {},
   "source": [
    "# 5. Curl Counter"
   ]
  },
  {
   "cell_type": "code",
   "execution_count": 47,
   "id": "1429937f",
   "metadata": {},
   "outputs": [
    {
     "name": "stdout",
     "output_type": "stream",
     "text": [
      "1\n",
      "2\n",
      "3\n"
     ]
    }
   ],
   "source": [
    "#FEED\n",
    "cap=cv2.VideoCapture(0)\n",
    "\n",
    "#Curl counter variables\n",
    "counter = 0 \n",
    "stage = None\n",
    "with mp_pose.Pose(min_detection_confidence=0.5,min_tracking_confidence=0.5) as pose:\n",
    "    while cap.isOpened():\n",
    "        ret,frame=cap.read()\n",
    "        \n",
    "        #Recolouring Image\n",
    "        image=cv2.cvtColor(frame,cv2.COLOR_BGR2RGB)\n",
    "        image.flags.writeable=False\n",
    "        \n",
    "        #Detect and Render\n",
    "        results=pose.process(image)\n",
    "        image.flags.writeable=True\n",
    "        image=cv2.cvtColor(image,cv2.COLOR_RGB2BGR)\n",
    "        \n",
    "        #Extract landmarks\n",
    "        try:\n",
    "            \n",
    "            landmarks = results.pose_landmarks.landmark\n",
    "            \n",
    "            # Get coordinates\n",
    "            shoulder = [landmarks[mp_pose.PoseLandmark.LEFT_SHOULDER.value].x,landmarks[mp_pose.PoseLandmark.LEFT_SHOULDER.value].y]\n",
    "            elbow = [landmarks[mp_pose.PoseLandmark.LEFT_ELBOW.value].x,landmarks[mp_pose.PoseLandmark.LEFT_ELBOW.value].y]\n",
    "            wrist = [landmarks[mp_pose.PoseLandmark.LEFT_WRIST.value].x,landmarks[mp_pose.PoseLandmark.LEFT_WRIST.value].y]\n",
    "            #shoulder=[landmarks[mp_pose.PoseLandmark.LEFT_HIP.value].x,landmarks[mp_pose.PoseLandmark.LEFT_HIP.value].y]\n",
    "            #elbow=[landmarks[mp_pose.PoseLandmark.LEFT_SHOULDER.value].x,landmarks[mp_pose.PoseLandmark.LEFT_SHOULDER.value].y]\n",
    "            #wrist=[landmarks[mp_pose.PoseLandmark.LEFT_ELBOW.value].x,landmarks[mp_pose.PoseLandmark.LEFT_ELBOW.value].y]\n",
    "  \n",
    "            # Calculate angle\n",
    "            angle = calculate_angle(shoulder, elbow, wrist)\n",
    "            \n",
    "            # Visualize angle\n",
    "            cv2.putText(image, str(angle), \n",
    "                           tuple(np.multiply(elbow, [640, 480]).astype(int)), \n",
    "                           cv2.FONT_HERSHEY_SIMPLEX, 0.5, (255, 255, 255), 2, cv2.LINE_AA\n",
    "                                )\n",
    "            \n",
    "            #Curl Counter Logic\n",
    "            if angle>160:\n",
    "                stage=\"down\"\n",
    "            if angle<45 and stage==\"down\":\n",
    "                stage=\"up\"\n",
    "                counter+=1\n",
    "                print(counter)\n",
    "            \n",
    "        except:\n",
    "            pass\n",
    "    \n",
    "         # Render curl counter\n",
    "        # Setup status box\n",
    "        cv2.rectangle(image, (0,0), (255,73), (245,117,16), -1)\n",
    "        \n",
    "        # Rep data\n",
    "        cv2.putText(image, 'REPS', (15,12), \n",
    "                    cv2.FONT_HERSHEY_SIMPLEX, 0.5, (0,0,0), 1, cv2.LINE_AA)\n",
    "        cv2.putText(image, str(counter), \n",
    "                    (10,60), \n",
    "                    cv2.FONT_HERSHEY_SIMPLEX, 2, (255,255,255), 2, cv2.LINE_AA)\n",
    "        # Stage data\n",
    "        cv2.putText(image, 'Stage', (65,12), \n",
    "                    cv2.FONT_HERSHEY_SIMPLEX, 0.5, (0,0,0), 1, cv2.LINE_AA)\n",
    "        cv2.putText(image, str(stage), \n",
    "                    (80,60), \n",
    "                    cv2.FONT_HERSHEY_SIMPLEX, 2, (255,255,255), 2, cv2.LINE_AA)\n",
    "        \n",
    "        \n",
    "\n",
    "        #Render Detections\n",
    "        mp_drawing.draw_landmarks(image,results.pose_landmarks,mp_pose.POSE_CONNECTIONS,\n",
    "                                  mp_drawing.DrawingSpec(color=(245,117,66),thickness=2,circle_radius=2),\n",
    "                                  mp_drawing.DrawingSpec(color=(245,66,230),thickness=2,circle_radius=2))\n",
    "        \n",
    "        cv2.imshow(\"Mediapipe Feed\",image)\n",
    "\n",
    "        if cv2.waitKey(10) & 0xFF==ord('q'):\n",
    "            break\n",
    "\n",
    "    cap.release()\n",
    "    cv2.destroyAllWindows()\n"
   ]
  }
 ],
 "metadata": {
  "kernelspec": {
   "display_name": "Python 3 (ipykernel)",
   "language": "python",
   "name": "python3"
  },
  "language_info": {
   "codemirror_mode": {
    "name": "ipython",
    "version": 3
   },
   "file_extension": ".py",
   "mimetype": "text/x-python",
   "name": "python",
   "nbconvert_exporter": "python",
   "pygments_lexer": "ipython3",
   "version": "3.7.8"
  }
 },
 "nbformat": 4,
 "nbformat_minor": 5
}
